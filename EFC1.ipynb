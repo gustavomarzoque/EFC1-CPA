{
  "cells": [
    {
      "cell_type": "markdown",
      "metadata": {
        "id": "XAdlKnDBj5uB"
      },
      "source": [
        "# EFC1 GCC253 - Complexidade e Projeto de Algoritmos - 5 pontos.\n",
        "\n",
        "\n",
        "> **Prof.: Douglas H. S. Abreu**\n",
        "\n",
        "\n",
        "**Aluno**: Bruno Henrique Ferreira Rocha Faria ,Gustavo Alvarenga Marzoque, Gabrielly Cristina Ferreira Corrêa, Maurício Júnior Santos Freire\n",
        "\n",
        "**Matricula**: 201820364,201910392, 201920332, 201920348\n",
        "\n",
        "**Turma**: 14A\n",
        "\n",
        "Link do repositório GitHub: \n",
        "\n",
        "● O trabalho deve ser feito em grupos de no máximo 4 componentes (Apenas um deve enviar a atividade no Campus Virtual)\n",
        "\n",
        "● Trabalhos entregues após a data limite não serão aceitos\n",
        "\n",
        "● Data limite de entrega: 20 de Novembro de 2022 : 23h55m\n",
        "\n",
        "● Enviar o trabalho para o campus virtual, do seguinte modo: link do repositório GitHub com acesso ao Notebook.\n",
        "\n",
        "● O trabalho deve ser desenvolvido no modelo Notebook utilizando preferencialmente a linguagem Python"
      ]
    },
    {
      "cell_type": "markdown",
      "metadata": {
        "id": "J3d6JlRUxREN"
      },
      "source": [
        "# Importações e Variáveis globais"
      ]
    },
    {
      "cell_type": "code",
      "execution_count": null,
      "metadata": {
        "id": "Ur1DVGQAxac4"
      },
      "outputs": [],
      "source": [
        "import numpy as np\n",
        "import random\n",
        "import time\n",
        "import matplotlib.pyplot as plt\n",
        "import sys\n",
        "# Variaveis\n",
        "randomize = True\n",
        "sys.setrecursionlimit(1000000)"
      ]
    },
    {
      "cell_type": "markdown",
      "metadata": {
        "id": "kPNpzNYwkKAO"
      },
      "source": [
        "# Funções de Ordenação\n",
        "\n",
        "> Utilize este espaço para definir as funções de ordenação.\n",
        "\n"
      ]
    },
    {
      "cell_type": "markdown",
      "metadata": {
        "id": "nEw1UEsmoKMg"
      },
      "source": [
        "##  Insertion Sort\n"
      ]
    },
    {
      "cell_type": "code",
      "execution_count": 12,
      "metadata": {
        "id": "kbOrhdB-j_px"
      },
      "outputs": [],
      "source": [
        "def insertion_sort(array):\n",
        "    comparacoes = 1 \n",
        "    for i in range(2, len(array)):\n",
        "        comparacoes += 1\n",
        "        key_item = array[i]\n",
        "        j = i - 1\n",
        "        while j >= 0 and array[j] > key_item:\n",
        "            comparacoes += 1\n",
        "            array[j + 1] = array[j]\n",
        "            j -= 1\n",
        "        array[j + 1] = key_item\n",
        "    return (array,comparacoes)"
      ]
    },
    {
      "cell_type": "markdown",
      "metadata": {
        "id": "9a-wJwU-wtmQ"
      },
      "source": [
        "##  Merge Sort\n"
      ]
    },
    {
      "cell_type": "code",
      "execution_count": 2,
      "metadata": {
        "id": "8cgIJ_4EwbPN"
      },
      "outputs": [],
      "source": [
        "def mergeSort(lista):\n",
        "\n",
        "    if len(lista) > 1:\n",
        "\n",
        "        meio = len(lista)//2\n",
        "        #também é valido: meio = int(len(lista)/2)\n",
        "\n",
        "        listaDaEsquerda = lista[:meio]\n",
        "        listaDaDireita = lista[meio:]\n",
        "\n",
        "        mergeSort(listaDaEsquerda)\n",
        "        mergeSort(listaDaDireita)\n",
        "\n",
        "        i = 0\n",
        "        j = 0\n",
        "        k = 0\n",
        "\n",
        "        while i < len(listaDaEsquerda) and j < len(listaDaDireita):\n",
        "\n",
        "            if listaDaEsquerda[i] < listaDaDireita[j]:\n",
        "                lista[k]=listaDaEsquerda[i]\n",
        "                i += 1\n",
        "            else:\n",
        "                lista[k]=listaDaDireita[j]\n",
        "                j += 1\n",
        "            k += 1\n",
        "\n",
        "        while i < len(listaDaEsquerda):\n",
        "\n",
        "            lista[k]=listaDaEsquerda[i]\n",
        "            i += 1\n",
        "            k += 1\n",
        "\n",
        "        while j < len(listaDaDireita):\n",
        "            lista[k]=listaDaDireita[j]\n",
        "            j += 1\n",
        "            k += 1\n",
        "    return lista"
      ]
    },
    {
      "cell_type": "markdown",
      "metadata": {
        "id": "8dWpeYUvw-wU"
      },
      "source": [
        "##  Selection Sort\n"
      ]
    },
    {
      "cell_type": "code",
      "execution_count": 3,
      "metadata": {
        "id": "vNgUDShawygu"
      },
      "outputs": [],
      "source": [
        "def selection_sort(array):\n",
        "    comparacoes = 1\n",
        "    for step in range(len(array)):\n",
        "        min_idx = step\n",
        "        comparacoes +=1\n",
        "        for i in range(step + 1, len(array)):\n",
        "            comparacoes +=1\n",
        "            if array[i] < array[min_idx]:\n",
        "                min_idx = i\n",
        "         \n",
        "        (array[step], array[min_idx]) = (array[min_idx], array[step])\n",
        "    return array,comparacoes"
      ]
    },
    {
      "cell_type": "markdown",
      "metadata": {
        "id": "zNI1kX0yyDrs"
      },
      "source": [
        "##  Bubble Sort\n"
      ]
    },
    {
      "cell_type": "code",
      "execution_count": 4,
      "metadata": {
        "id": "6X_zk1yWxMQS"
      },
      "outputs": [],
      "source": [
        "def bubble_sort(array):\n",
        "    comparacoes = 1\n",
        "    exchanges = True\n",
        "    passnum = len(array)-1\n",
        "    while passnum > 0 and exchanges:\n",
        "       comparacoes += 1\n",
        "       exchanges = False\n",
        "       for i in range(passnum):\n",
        "           comparacoes +=1\n",
        "           if array[i]>array[i+1]:\n",
        "               exchanges = True\n",
        "               temp = array[i]\n",
        "               array[i] = array[i+1]\n",
        "               array[i+1] = temp\n",
        "       passnum = passnum-1\n",
        "    return array, comparacoes"
      ]
    },
    {
      "cell_type": "markdown",
      "metadata": {
        "id": "vk4vOTkKyLB-"
      },
      "source": [
        "## Heap Sort"
      ]
    },
    {
      "cell_type": "code",
      "execution_count": 7,
      "metadata": {
        "id": "39a7xXzLyH9g"
      },
      "outputs": [],
      "source": [
        "def heapify(arr, N, i):\n",
        "    largest = i   \n",
        "    l = 2 * i + 1     \n",
        "    r = 2 * i + 2    \n",
        "  \n",
        "    if l < N and arr[largest] < arr[l]:\n",
        "        largest = l\n",
        "  \n",
        "    if r < N and arr[largest] < arr[r]:\n",
        "        largest = r\n",
        "  \n",
        "    if largest != i:\n",
        "        arr[i], arr[largest] = arr[largest], arr[i]   \n",
        "  \n",
        "        heapify(arr, N, largest)\n",
        "  \n",
        " \n",
        " \n",
        "def heapSort(arr):\n",
        "    N = len(arr)\n",
        "  \n",
        "    for i in range(N//2 - 1, -1, -1):\n",
        "        heapify(arr, N, i)\n",
        "  \n",
        "    for i in range(N-1, 0, -1):\n",
        "        arr[i], arr[0] = arr[0], arr[i]   \n",
        "        heapify(arr, i, 0)"
      ]
    },
    {
      "cell_type": "markdown",
      "metadata": {
        "id": "fFiGho5CyU3t"
      },
      "source": [
        "## Quick Sort com pivo sendo o ultimo elemento do arranjo\n",
        "\n",
        "> pivo = *A[A-comprimento]*"
      ]
    },
    {
      "cell_type": "code",
      "execution_count": 6,
      "metadata": {
        "id": "1Ie_N5CRyKY7"
      },
      "outputs": [],
      "source": [
        "\n",
        "def partition(array, low, high):\n",
        "  \n",
        "    pivot = array[high]\n",
        "  \n",
        "    i = low - 1\n",
        "  \n",
        "    for j in range(low, high):\n",
        "        if array[j] <= pivot:\n",
        "  \n",
        "            i = i + 1\n",
        "  \n",
        "            (array[i], array[j]) = (array[j], array[i])\n",
        "  \n",
        "    (array[i + 1], array[high]) = (array[high], array[i + 1])\n",
        "  \n",
        "    return i + 1\n",
        "  \n",
        " \n",
        " \n",
        "def quickSort(array, low, high):\n",
        "    if low < high: \n",
        "        pi = partition(array, low, high)\n",
        "  \n",
        "        quickSort(array, low, pi - 1)\n",
        "  \n",
        "        quickSort(array, pi + 1, high)"
      ]
    },
    {
      "cell_type": "markdown",
      "metadata": {
        "id": "VomdAnCrzEv1"
      },
      "source": [
        "# Questões"
      ]
    },
    {
      "cell_type": "code",
      "source": [],
      "metadata": {
        "id": "FRfA_UAgvEf3"
      },
      "execution_count": null,
      "outputs": []
    },
    {
      "cell_type": "markdown",
      "metadata": {
        "id": "3QKV979kzItD"
      },
      "source": [
        "\n",
        "\n",
        "1.   Escolha pelo menos 3 arranjos. Ex: ***A[5,...,1000,...,100]*** e mostre o funcionamento dos Algoritmos realizando a ordenação.\n",
        "\n",
        "\n",
        "\n"
      ]
    },
    {
      "cell_type": "code",
      "execution_count": null,
      "metadata": {
        "colab": {
          "base_uri": "https://localhost:8080/"
        },
        "id": "nBfs279_1Vko",
        "outputId": "6a6e86cf-5b1e-4176-a1a5-93bfb4ded319"
      },
      "outputs": [
        {
          "name": "stdout",
          "output_type": "stream",
          "text": [
            "Boa sorte!!!\n"
          ]
        }
      ],
      "source": [
        "print(\"Boa sorte!!!\")"
      ]
    },
    {
      "cell_type": "markdown",
      "source": [
        "Insertion Sort:\n"
      ],
      "metadata": {
        "id": "3MVVPlCZvCNA"
      }
    },
    {
      "cell_type": "code",
      "source": [
        "array = [31,41,59,26,90,58]\n",
        "array2 = [7,41,1000,4,111,13]\n",
        "array3 = [74,41,2,100,33,7]\n",
        "\n",
        "def insertion_sort(array):\n",
        "    comparacoes = 1 \n",
        "    for i in range(2, len(array)):\n",
        "        comparacoes += 1\n",
        "        key_item = array[i]\n",
        "        j = i - 1\n",
        "        while j >= 0 and array[j] > key_item:\n",
        "            comparacoes += 1\n",
        "            array[j + 1] = array[j]\n",
        "            j -= 1\n",
        "        array[j + 1] = key_item\n",
        "    return (array,comparacoes)\n",
        "insertion_sort(array)\n",
        "insertion_sort(array2)\n",
        "insertion_sort(array3)\n",
        "\n",
        "print('[INSERTION_SORT] Arranjos Ordenados de maneira Crescente:')\n",
        "print(array)\n",
        "print(array2)\n",
        "print(array3)\n"
      ],
      "metadata": {
        "colab": {
          "base_uri": "https://localhost:8080/"
        },
        "id": "xcYolmTYrv8d",
        "outputId": "5de5fceb-bf10-49b5-aabf-2d8e217ba28f"
      },
      "execution_count": 42,
      "outputs": [
        {
          "output_type": "stream",
          "name": "stdout",
          "text": [
            "[INSERTION_SORT] Arranjos Ordenados de maneira Crescente:\n",
            "[26, 31, 41, 58, 59, 90]\n",
            "[4, 7, 13, 41, 111, 1000]\n",
            "[2, 7, 74, 41, 41, 100]\n"
          ]
        }
      ]
    },
    {
      "cell_type": "markdown",
      "source": [
        "Merge Sort:\n"
      ],
      "metadata": {
        "id": "nleN9tHKvJW8"
      }
    },
    {
      "cell_type": "code",
      "source": [
        "array = [31,41,59,26,90,58]\n",
        "array2 = [7,41,1000,4,111,13]\n",
        "array3 = [74,41,2,100,33,7]\n",
        "\n",
        "def mergeSort(lista):\n",
        "\n",
        "    if len(lista) > 1:\n",
        "\n",
        "        meio = len(lista)//2\n",
        "        #também é valido: meio = int(len(lista)/2)\n",
        "\n",
        "        listaDaEsquerda = lista[:meio]\n",
        "        listaDaDireita = lista[meio:]\n",
        "\n",
        "        mergeSort(listaDaEsquerda)\n",
        "        mergeSort(listaDaDireita)\n",
        "\n",
        "        i = 0\n",
        "        j = 0\n",
        "        k = 0\n",
        "\n",
        "        while i < len(listaDaEsquerda) and j < len(listaDaDireita):\n",
        "\n",
        "            if listaDaEsquerda[i] < listaDaDireita[j]:\n",
        "                lista[k]=listaDaEsquerda[i]\n",
        "                i += 1\n",
        "            else:\n",
        "                lista[k]=listaDaDireita[j]\n",
        "                j += 1\n",
        "            k += 1\n",
        "\n",
        "        while i < len(listaDaEsquerda):\n",
        "\n",
        "            lista[k]=listaDaEsquerda[i]\n",
        "            i += 1\n",
        "            k += 1\n",
        "\n",
        "        while j < len(listaDaDireita):\n",
        "            lista[k]=listaDaDireita[j]\n",
        "            j += 1\n",
        "            k += 1\n",
        "    return lista\n",
        "mergeSort(array)\n",
        "mergeSort(array2)\n",
        "mergeSort(array3)\n",
        "print('[MERGE_SORT] Arranjos Ordenados de maneira Crescente:')\n",
        "print(array)\n",
        "print(array2)\n",
        "print(array3)"
      ],
      "metadata": {
        "colab": {
          "base_uri": "https://localhost:8080/"
        },
        "id": "PbYScWYEvxEl",
        "outputId": "60780c94-25a8-4afd-d46b-b37ce995c27a"
      },
      "execution_count": 45,
      "outputs": [
        {
          "output_type": "stream",
          "name": "stdout",
          "text": [
            "[MERGE_SORT] Arranjos Ordenados de maneira Crescente:\n",
            "[26, 31, 41, 58, 59, 90]\n",
            "[4, 7, 13, 41, 111, 1000]\n",
            "[2, 7, 41, 41, 74, 100]\n"
          ]
        }
      ]
    },
    {
      "cell_type": "markdown",
      "source": [
        "Selection Sort:\n"
      ],
      "metadata": {
        "id": "GXikHSa0wO2E"
      }
    },
    {
      "cell_type": "code",
      "source": [
        "array = [31,41,59,26,90,58]\n",
        "array2 = [7,41,1000,4,111,13]\n",
        "array3 = [74,41,2,100,33,7]\n",
        "\n",
        "def selection_sort(array):\n",
        "    comparacoes = 1\n",
        "    for step in range(len(array)):\n",
        "        min_idx = step\n",
        "        comparacoes +=1\n",
        "        for i in range(step + 1, len(array)):\n",
        "            comparacoes +=1\n",
        "            if array[i] < array[min_idx]:\n",
        "                min_idx = i\n",
        "         \n",
        "        (array[step], array[min_idx]) = (array[min_idx], array[step])\n",
        "    return array,comparacoes\n",
        "\n",
        "selection_sort(array)\n",
        "selection_sort(array2)\n",
        "selection_sort(array3)\n",
        "print('[SELECTION_SORT] Arranjos Ordenados de maneira Crescente:')\n",
        "print(array)\n",
        "print(array2)\n",
        "print(array3)"
      ],
      "metadata": {
        "colab": {
          "base_uri": "https://localhost:8080/"
        },
        "id": "SMmpNXRRwo3i",
        "outputId": "919c1bcc-976b-4636-e05f-6889e4866cab"
      },
      "execution_count": 46,
      "outputs": [
        {
          "output_type": "stream",
          "name": "stdout",
          "text": [
            "[SELECTION_SORT] Arranjos Ordenados de maneira Crescente:\n",
            "[26, 31, 41, 58, 59, 90]\n",
            "[4, 7, 13, 41, 111, 1000]\n",
            "[2, 7, 33, 41, 74, 100]\n"
          ]
        }
      ]
    },
    {
      "cell_type": "markdown",
      "source": [
        "Bubble Sort:\n"
      ],
      "metadata": {
        "id": "FxZRsi9Ww5F9"
      }
    },
    {
      "cell_type": "code",
      "source": [
        "array = [31,41,59,26,90,58]\n",
        "array2 = [7,41,1000,4,111,13]\n",
        "array3 = [74,41,2,100,33,7]\n",
        "\n",
        "def bubble_sort(array):\n",
        "    comparacoes = 1\n",
        "    exchanges = True\n",
        "    passnum = len(array)-1\n",
        "    while passnum > 0 and exchanges:\n",
        "       comparacoes += 1\n",
        "       exchanges = False\n",
        "       for i in range(passnum):\n",
        "           comparacoes +=1\n",
        "           if array[i]>array[i+1]:\n",
        "               exchanges = True\n",
        "               temp = array[i]\n",
        "               array[i] = array[i+1]\n",
        "               array[i+1] = temp\n",
        "       passnum = passnum-1\n",
        "    return array, comparacoes\n",
        "\n",
        "bubble_sort(array)\n",
        "bubble_sort(array2)\n",
        "bubble_sort(array3)\n",
        "print('[BUBBLE_SORT] Arranjos Ordenados de maneira Crescente:')\n",
        "print(array)\n",
        "print(array2)\n",
        "print(array3)"
      ],
      "metadata": {
        "colab": {
          "base_uri": "https://localhost:8080/"
        },
        "id": "gtHe1AmQw8C4",
        "outputId": "e6771b93-41ea-4ba1-ecdc-4dddf8afdb5b"
      },
      "execution_count": 47,
      "outputs": [
        {
          "output_type": "stream",
          "name": "stdout",
          "text": [
            "[SELECTION_SORT] Arranjos Ordenados de maneira Crescente:\n",
            "[26, 31, 41, 58, 59, 90]\n",
            "[4, 7, 13, 41, 111, 1000]\n",
            "[2, 7, 33, 41, 74, 100]\n"
          ]
        }
      ]
    },
    {
      "cell_type": "markdown",
      "source": [
        "Heap Sort:"
      ],
      "metadata": {
        "id": "rpmfDH-ZxWRT"
      }
    },
    {
      "cell_type": "code",
      "source": [
        "array = [31,41,59,26,90,58]\n",
        "array2 = [7,41,1000,4,111,13]\n",
        "array3 = [74,41,2,100,33,7]\n",
        "def heapify(arr, N, i):\n",
        "    largest = i  # Initialize largest as root\n",
        "    l = 2 * i + 1     # left = 2*i + 1\n",
        "    r = 2 * i + 2     # right = 2*i + 2\n",
        " \n",
        "    # See if left child of root exists and is\n",
        "    # greater than root\n",
        "    if l < N and arr[largest] < arr[l]:\n",
        "        largest = l\n",
        " \n",
        "    # See if right child of root exists and is\n",
        "    # greater than root\n",
        "    if r < N and arr[largest] < arr[r]:\n",
        "        largest = r\n",
        " \n",
        "    # Change root, if needed\n",
        "    if largest != i:\n",
        "        arr[i], arr[largest] = arr[largest], arr[i]  # swap\n",
        " \n",
        "        # Heapify the root.\n",
        "        heapify(arr, N, largest)\n",
        " \n",
        "# The main function to sort an array of given size\n",
        " \n",
        " \n",
        "def heapSort(arr):\n",
        "    N = len(arr)\n",
        " \n",
        "    # Build a maxheap.\n",
        "    for i in range(N//2 - 1, -1, -1):\n",
        "        heapify(arr, N, i)\n",
        " \n",
        "    # One by one extract elements\n",
        "    for i in range(N-1, 0, -1):\n",
        "        arr[i], arr[0] = arr[0], arr[i]  # swap\n",
        "        heapify(arr, i, 0)\n",
        "\n",
        "heapSort(array)\n",
        "heapSort(array2)\n",
        "heapSort(array3)\n",
        "print('[HEAP_SORT] Arranjos Ordenados de maneira Crescente:')\n",
        "print(array)\n",
        "print(array2)\n",
        "print(array3)\n"
      ],
      "metadata": {
        "colab": {
          "base_uri": "https://localhost:8080/"
        },
        "id": "FXx2tXNmxZGI",
        "outputId": "22fbe19e-c229-4aa0-ef42-1c6ffc841f8f"
      },
      "execution_count": 48,
      "outputs": [
        {
          "output_type": "stream",
          "name": "stdout",
          "text": [
            "[HEAP_SORT] Arranjos Ordenados de maneira Crescente:\n",
            "[26, 31, 41, 58, 59, 90]\n",
            "[4, 7, 13, 41, 111, 1000]\n",
            "[2, 7, 33, 41, 74, 100]\n"
          ]
        }
      ]
    },
    {
      "cell_type": "markdown",
      "source": [
        "Quick Sort:\n"
      ],
      "metadata": {
        "id": "T21DIFFwycY4"
      }
    },
    {
      "cell_type": "code",
      "source": [
        "array = [31,41,59,26,90,58]\n",
        "array2 = [7,41,1000,4,111,13]\n",
        "array3 = [74,41,2,100,33,7]\n",
        "def partition(array, low, high):\n",
        "  \n",
        "    pivot = array[high]\n",
        "  \n",
        "    i = low - 1\n",
        "  \n",
        "    for j in range(low, high):\n",
        "        if array[j] <= pivot:\n",
        "  \n",
        "            i = i + 1\n",
        "  \n",
        "            (array[i], array[j]) = (array[j], array[i])\n",
        "  \n",
        "    (array[i + 1], array[high]) = (array[high], array[i + 1])\n",
        "  \n",
        "    return i + 1\n",
        "  \n",
        " \n",
        " \n",
        "def quickSort(array, low, high):\n",
        "    if low < high: \n",
        "        pi = partition(array, low, high)\n",
        "  \n",
        "        quickSort(array, low, pi - 1)\n",
        "  \n",
        "        quickSort(array, pi + 1, high)\n",
        " \n",
        " \n",
        " \n",
        "size = len(array)\n",
        "size2 = len(array2)\n",
        "size3 = len(array3)\n",
        "\n",
        " \n",
        "quickSort(array, 0, size - 1)\n",
        "quickSort(array2, 0, size2 - 1)\n",
        "quickSort(array3, 0, size3 - 1)\n",
        "  \n",
        "print('[QUICK_SORT] Arranjos Ordenados de maneira Crescente:') \n",
        "print(array)\n",
        "print(array2)\n",
        "print(array3)"
      ],
      "metadata": {
        "colab": {
          "base_uri": "https://localhost:8080/"
        },
        "id": "dob0YaaVyeRG",
        "outputId": "b6659ba7-f475-43f6-e977-00f98f11c69c"
      },
      "execution_count": 54,
      "outputs": [
        {
          "output_type": "stream",
          "name": "stdout",
          "text": [
            "[QUICK_SORT] Arranjos Ordenados de maneira Crescente:\n",
            "[26, 31, 41, 58, 59, 90]\n",
            "[4, 7, 13, 41, 111, 1000]\n",
            "[2, 7, 33, 41, 74, 100]\n"
          ]
        }
      ]
    }
  ],
  "metadata": {
    "colab": {
      "collapsed_sections": [
        "kPNpzNYwkKAO",
        "nEw1UEsmoKMg",
        "9a-wJwU-wtmQ",
        "8dWpeYUvw-wU",
        "zNI1kX0yyDrs",
        "vk4vOTkKyLB-"
      ],
      "provenance": [],
      "toc_visible": true
    },
    "kernelspec": {
      "display_name": "Python 3",
      "name": "python3"
    },
    "language_info": {
      "name": "python"
    }
  },
  "nbformat": 4,
  "nbformat_minor": 0
}
